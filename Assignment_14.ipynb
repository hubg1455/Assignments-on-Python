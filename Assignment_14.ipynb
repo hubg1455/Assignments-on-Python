{
 "cells": [
  {
   "cell_type": "markdown",
   "id": "59adeb12",
   "metadata": {},
   "source": [
    "1. What does RGBA stand for?"
   ]
  },
  {
   "cell_type": "code",
   "execution_count": null,
   "id": "76fa431b",
   "metadata": {},
   "outputs": [],
   "source": [
    "Red, green, blue, alpha"
   ]
  },
  {
   "cell_type": "markdown",
   "id": "e59c6c02",
   "metadata": {},
   "source": [
    "2. From the Pillow module, how do you get the RGBA value of any images?"
   ]
  },
  {
   "cell_type": "code",
   "execution_count": null,
   "id": "9ea14e36",
   "metadata": {},
   "outputs": [],
   "source": [
    "getrgb() function."
   ]
  },
  {
   "cell_type": "markdown",
   "id": "c25f88f5",
   "metadata": {},
   "source": [
    "3. What is a box tuple, and how does it work?"
   ]
  },
  {
   "cell_type": "code",
   "execution_count": null,
   "id": "d45869fd",
   "metadata": {},
   "outputs": [],
   "source": [
    "A box tuple is a type of tuple that is used to store a sequence of immutable Python objects.\n",
    "It is similar to a list, but it is immutable, meaning that you cannot add, remove, or change the values in a box tuple."
   ]
  },
  {
   "cell_type": "markdown",
   "id": "de969e9e",
   "metadata": {},
   "source": [
    "4. Use your image and load in notebook then, How can you find out the width and height of an\n",
    "Image object?"
   ]
  },
  {
   "cell_type": "code",
   "execution_count": null,
   "id": "d3bd9b48",
   "metadata": {},
   "outputs": [],
   "source": [
    "#With the help of Pillow library, we can use the .size method to find the width and height of an Image object\n",
    "\n",
    "from PIL import Image\n",
    "image_path='image.png'\n",
    "img=Image.open('image_path')\n",
    "img.size"
   ]
  },
  {
   "cell_type": "markdown",
   "id": "22ff0992",
   "metadata": {},
   "source": [
    "5.What method would you call to get Image object for a 100×100 image, excluding the lower-left\n",
    "quarter of it?"
   ]
  },
  {
   "cell_type": "code",
   "execution_count": null,
   "id": "ff5ff9db",
   "metadata": {},
   "outputs": [],
   "source": [
    " getImage mathod"
   ]
  },
  {
   "cell_type": "markdown",
   "id": "1a27ac33",
   "metadata": {},
   "source": [
    "6. After making changes to an Image object, how could you save it as an image file?"
   ]
  },
  {
   "cell_type": "code",
   "execution_count": null,
   "id": "76b4561c",
   "metadata": {},
   "outputs": [],
   "source": [
    "from PIL import Image\n",
    "\n",
    "img=Image.open(\"image_path\")\n",
    "\n",
    "img1=img.save(\"image.jpg\")"
   ]
  },
  {
   "cell_type": "markdown",
   "id": "95beb79b",
   "metadata": {},
   "source": [
    "7. What module contains Pillow’s shape-drawing code?"
   ]
  },
  {
   "cell_type": "code",
   "execution_count": null,
   "id": "ac52f0c0",
   "metadata": {},
   "outputs": [],
   "source": [
    "ImageDraw module"
   ]
  },
  {
   "cell_type": "markdown",
   "id": "a34724fa",
   "metadata": {},
   "source": [
    "8. Image objects do not have drawing methods. What kind of object does? How do you get this kind\n",
    "of object?"
   ]
  },
  {
   "cell_type": "code",
   "execution_count": null,
   "id": "709fd177",
   "metadata": {},
   "outputs": [],
   "source": [
    "Graphics object in order to draw shapes. \n",
    "we can get a Graphics object from a BufferedImage object by calling the getGraphics() method."
   ]
  }
 ],
 "metadata": {
  "kernelspec": {
   "display_name": "Python 3 (ipykernel)",
   "language": "python",
   "name": "python3"
  },
  "language_info": {
   "codemirror_mode": {
    "name": "ipython",
    "version": 3
   },
   "file_extension": ".py",
   "mimetype": "text/x-python",
   "name": "python",
   "nbconvert_exporter": "python",
   "pygments_lexer": "ipython3",
   "version": "3.9.7"
  }
 },
 "nbformat": 4,
 "nbformat_minor": 5
}
