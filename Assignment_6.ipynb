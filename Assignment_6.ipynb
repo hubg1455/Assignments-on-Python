{
 "cells": [
  {
   "cell_type": "markdown",
   "id": "ef2ac53c",
   "metadata": {},
   "source": [
    "1. What are escape characters, and how do you use them?"
   ]
  },
  {
   "cell_type": "markdown",
   "id": "83b6fe25",
   "metadata": {},
   "source": [
    "escape character is a backslash \\ which is used when want to insert character. if using double quotes inside a double quotes string it will show error so fix this issue we use escape character \\\""
   ]
  },
  {
   "cell_type": "code",
   "execution_count": 3,
   "id": "1d2fe72f",
   "metadata": {},
   "outputs": [
    {
     "data": {
      "text/plain": [
       "'This is \"India\" country'"
      ]
     },
     "execution_count": 3,
     "metadata": {},
     "output_type": "execute_result"
    }
   ],
   "source": [
    "\"This is \\\"India\\\" country\""
   ]
  },
  {
   "cell_type": "markdown",
   "id": "2f4bbd40",
   "metadata": {},
   "source": [
    "2. What do the escape characters n and t stand for?"
   ]
  },
  {
   "cell_type": "code",
   "execution_count": null,
   "id": "59a76515",
   "metadata": {},
   "outputs": [],
   "source": [
    "\\n is for newline\n",
    "\\t is for tab"
   ]
  },
  {
   "cell_type": "markdown",
   "id": "ac770589",
   "metadata": {},
   "source": [
    "3. What is the way to include backslash characters in a string?"
   ]
  },
  {
   "cell_type": "code",
   "execution_count": 6,
   "id": "de058caa",
   "metadata": {},
   "outputs": [
    {
     "name": "stdout",
     "output_type": "stream",
     "text": [
      "it's a cool watch\n"
     ]
    }
   ],
   "source": [
    "print(\"it\\'s a cool watch\")"
   ]
  },
  {
   "cell_type": "markdown",
   "id": "21e545b9",
   "metadata": {},
   "source": [
    "4. The string \"Howl's Moving Castle\" is a correct value. Why isn't the single quote character in the word Howl's not escaped a problem?"
   ]
  },
  {
   "cell_type": "markdown",
   "id": "918c8f65",
   "metadata": {},
   "source": [
    "we can use single quote in double quotes which means start from double quotes and ends with double quotes in string "
   ]
  },
  {
   "cell_type": "markdown",
   "id": "4b69e0e0",
   "metadata": {},
   "source": [
    "5. How do you write a string of newlines if you don't want to use the n character?"
   ]
  },
  {
   "cell_type": "code",
   "execution_count": 11,
   "id": "807f9ebe",
   "metadata": {},
   "outputs": [
    {
     "name": "stdout",
     "output_type": "stream",
     "text": [
      "hello world \n",
      "good evening\n"
     ]
    }
   ],
   "source": [
    "print(\"hello world\",end=\" \\n\")\n",
    "print(\"good evening\")"
   ]
  },
  {
   "cell_type": "markdown",
   "id": "de8e6c33",
   "metadata": {},
   "source": [
    "6. What are the values of the given expressions?\n",
    "'Hello, world!'[1]\n",
    "'Hello, world!'[0:5]\n",
    "'Hello, world!'[:5]\n",
    "'Hello, world!'[3:]\n"
   ]
  },
  {
   "cell_type": "markdown",
   "id": "0780a26d",
   "metadata": {},
   "source": [
    " 'Hello, world!'[1] ->'e'\n",
    " 'Hello, world!'[0:5] ->'Hello'\n",
    " 'Hello, world!'[:5] ->'Hello'\n",
    " 'Hello, world!'[3:] -> 'lo, world!'"
   ]
  },
  {
   "cell_type": "markdown",
   "id": "e2b47a8a",
   "metadata": {},
   "source": [
    "7. What are the values of the following expressions?\n",
    "'Hello'.upper()\n",
    "'Hello'.upper().isupper()\n",
    "'Hello'.upper().lower()\n"
   ]
  },
  {
   "cell_type": "markdown",
   "id": "a04f81d3",
   "metadata": {},
   "source": [
    "'Hello'.upper() ->'HELLO'\n",
    "'Hello'.upper().isupper() -> True\n",
    "'Hello'.upper().lower() -> 'hello'"
   ]
  },
  {
   "cell_type": "markdown",
   "id": "9418e8a1",
   "metadata": {},
   "source": [
    "8. What are the values of the following expressions?\n",
    "'Remember, remember, the fifth of July.'.split()"
   ]
  },
  {
   "cell_type": "markdown",
   "id": "60756be0",
   "metadata": {},
   "source": [
    "'Remember, remember, the fifth of July.'.split() -> split will break the string in small strings and store it in list. "
   ]
  },
  {
   "cell_type": "markdown",
   "id": "3225d436",
   "metadata": {},
   "source": [
    "'-'.join('There can only one.'.split()) ->'There-can-only-one.'"
   ]
  },
  {
   "cell_type": "code",
   "execution_count": 22,
   "id": "cf7607de",
   "metadata": {},
   "outputs": [
    {
     "name": "stdout",
     "output_type": "stream",
     "text": [
      "Object `string` not found.\n"
     ]
    }
   ],
   "source": [
    "9. What are the methods for right-justifying, left-justifying, and centering a string?"
   ]
  },
  {
   "cell_type": "markdown",
   "id": "56038ab0",
   "metadata": {},
   "source": [
    "9. What are the methods for right-justifying, left-justifying, and centering a string"
   ]
  },
  {
   "cell_type": "code",
   "execution_count": 30,
   "id": "c1f6d4c4",
   "metadata": {},
   "outputs": [],
   "source": [
    "a=\"apple\"\n",
    "b=a.rjust(8)"
   ]
  },
  {
   "cell_type": "code",
   "execution_count": 33,
   "id": "e00f2272",
   "metadata": {},
   "outputs": [
    {
     "data": {
      "text/plain": [
       "'apple     '"
      ]
     },
     "execution_count": 33,
     "metadata": {},
     "output_type": "execute_result"
    }
   ],
   "source": [
    "b=a.ljust(10)\n",
    "b"
   ]
  },
  {
   "cell_type": "code",
   "execution_count": 37,
   "id": "e2cfb69f",
   "metadata": {},
   "outputs": [
    {
     "data": {
      "text/plain": [
       "'  apple   '"
      ]
     },
     "execution_count": 37,
     "metadata": {},
     "output_type": "execute_result"
    }
   ],
   "source": [
    "a.center(10)"
   ]
  },
  {
   "cell_type": "markdown",
   "id": "559c8b34",
   "metadata": {},
   "source": [
    "10. What is the best way to remove whitespace characters from the start or end?"
   ]
  },
  {
   "cell_type": "code",
   "execution_count": 40,
   "id": "bfabbf46",
   "metadata": {},
   "outputs": [],
   "source": [
    "x='  apple  '"
   ]
  },
  {
   "cell_type": "code",
   "execution_count": 41,
   "id": "b7ecf730",
   "metadata": {},
   "outputs": [
    {
     "data": {
      "text/plain": [
       "'apple'"
      ]
     },
     "execution_count": 41,
     "metadata": {},
     "output_type": "execute_result"
    }
   ],
   "source": [
    "x.strip()"
   ]
  },
  {
   "cell_type": "code",
   "execution_count": null,
   "id": "679589b6",
   "metadata": {},
   "outputs": [],
   "source": []
  }
 ],
 "metadata": {
  "kernelspec": {
   "display_name": "Python 3 (ipykernel)",
   "language": "python",
   "name": "python3"
  },
  "language_info": {
   "codemirror_mode": {
    "name": "ipython",
    "version": 3
   },
   "file_extension": ".py",
   "mimetype": "text/x-python",
   "name": "python",
   "nbconvert_exporter": "python",
   "pygments_lexer": "ipython3",
   "version": "3.9.7"
  }
 },
 "nbformat": 4,
 "nbformat_minor": 5
}
