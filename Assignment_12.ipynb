{
 "cells": [
  {
   "cell_type": "markdown",
   "id": "af49d124",
   "metadata": {},
   "source": [
    "1. In what modes should the PdfFileReader() and PdfFileWriter() File objects will be opened?"
   ]
  },
  {
   "cell_type": "code",
   "execution_count": null,
   "id": "07a7c757",
   "metadata": {},
   "outputs": [],
   "source": [
    "Both the PdfFileReader() and PdfFileWriter() File objects should be opened in \"rb\" mode."
   ]
  },
  {
   "cell_type": "markdown",
   "id": "e6308c7a",
   "metadata": {},
   "source": [
    "2. From a PdfFileReader object, how do you get a Page object for page 5?"
   ]
  },
  {
   "cell_type": "code",
   "execution_count": null,
   "id": "34c67701",
   "metadata": {},
   "outputs": [],
   "source": [
    "The getPage(5) function."
   ]
  },
  {
   "cell_type": "markdown",
   "id": "11902488",
   "metadata": {},
   "source": [
    "3. What PdfFileReader variable stores the number of pages in the PDF document?"
   ]
  },
  {
   "cell_type": "code",
   "execution_count": null,
   "id": "15d85ea3",
   "metadata": {},
   "outputs": [],
   "source": [
    "numPages attribute"
   ]
  },
  {
   "cell_type": "markdown",
   "id": "36311683",
   "metadata": {},
   "source": [
    "4. If a PdfFileReader object’s PDF is encrypted with the password swordfish, what must you do\n",
    "before you can obtain Page objects from it?"
   ]
  },
  {
   "cell_type": "code",
   "execution_count": null,
   "id": "53418525",
   "metadata": {},
   "outputs": [],
   "source": [
    "Decrypt it using the decrypt() function."
   ]
  },
  {
   "cell_type": "markdown",
   "id": "b22b067d",
   "metadata": {},
   "source": [
    "5. What methods do you use to rotate a page?"
   ]
  },
  {
   "cell_type": "code",
   "execution_count": null,
   "id": "02935f93",
   "metadata": {},
   "outputs": [],
   "source": [
    "Page.GetRotation() method"
   ]
  },
  {
   "cell_type": "markdown",
   "id": "6c252302",
   "metadata": {},
   "source": [
    "6. What is the difference between a Run object and a Paragraph object?"
   ]
  },
  {
   "cell_type": "code",
   "execution_count": null,
   "id": "82254fa7",
   "metadata": {},
   "outputs": [],
   "source": [
    "A Run object is a piece of text within a Paragraph object. A Paragraph object represents a paragraph of text."
   ]
  },
  {
   "cell_type": "markdown",
   "id": "b338a514",
   "metadata": {},
   "source": [
    "7. How do you obtain a list of Paragraph objects for a Document object that’s stored in a variable\n",
    "named doc?"
   ]
  },
  {
   "cell_type": "code",
   "execution_count": null,
   "id": "4ecc73bf",
   "metadata": {},
   "outputs": [],
   "source": [
    "#!pip install python-docx\n",
    "import docx\n",
    "doc = docx.Document('file.docx')\n",
    "doc.paragraphs"
   ]
  },
  {
   "cell_type": "markdown",
   "id": "fa6ed87e",
   "metadata": {},
   "source": [
    "8. What type of object has bold, underline, italic, strike, and outline variables?"
   ]
  },
  {
   "cell_type": "code",
   "execution_count": null,
   "id": "47b0a457",
   "metadata": {},
   "outputs": [],
   "source": [
    "A text object"
   ]
  },
  {
   "cell_type": "markdown",
   "id": "4958e433",
   "metadata": {},
   "source": [
    "9. What is the difference between False, True, and None for the bold variable?"
   ]
  },
  {
   "cell_type": "code",
   "execution_count": null,
   "id": "80d5056a",
   "metadata": {},
   "outputs": [],
   "source": [
    "The bold variable is a Boolean value, which can be either True or False.\n",
    "None is a special value that indicates that the variable has no value."
   ]
  },
  {
   "cell_type": "markdown",
   "id": "3f56220a",
   "metadata": {},
   "source": [
    "10. How do you create a Document object for a new Word document?"
   ]
  },
  {
   "cell_type": "code",
   "execution_count": null,
   "id": "1e1aa518",
   "metadata": {},
   "outputs": [],
   "source": [
    "Using the python-docx module, you can create a new Document object with the document() method.\n",
    "\n",
    "docx.document()"
   ]
  },
  {
   "cell_type": "markdown",
   "id": "6546a7ea",
   "metadata": {},
   "source": [
    "11. How do you add a paragraph with the text &#39;Hello, there!&#39; to a Document object stored in a\n",
    "variable named doc?"
   ]
  },
  {
   "cell_type": "code",
   "execution_count": null,
   "id": "08f318d0",
   "metadata": {},
   "outputs": [],
   "source": [
    "import docx\n",
    "\n",
    "doc=docx.document()\n",
    "doc.add_paragraph('Hello,there!')"
   ]
  },
  {
   "cell_type": "markdown",
   "id": "2b80abe4",
   "metadata": {},
   "source": [
    "12. What integers represent the levels of headings available in Word documents?"
   ]
  },
  {
   "cell_type": "code",
   "execution_count": null,
   "id": "44904906",
   "metadata": {},
   "outputs": [],
   "source": [
    "There are six levels of headings available in Word documents: 1, 2, 3, 4, 5, and 6."
   ]
  }
 ],
 "metadata": {
  "kernelspec": {
   "display_name": "Python 3 (ipykernel)",
   "language": "python",
   "name": "python3"
  },
  "language_info": {
   "codemirror_mode": {
    "name": "ipython",
    "version": 3
   },
   "file_extension": ".py",
   "mimetype": "text/x-python",
   "name": "python",
   "nbconvert_exporter": "python",
   "pygments_lexer": "ipython3",
   "version": "3.9.7"
  }
 },
 "nbformat": 4,
 "nbformat_minor": 5
}
