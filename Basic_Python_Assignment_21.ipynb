{
 "cells": [
  {
   "cell_type": "markdown",
   "id": "d5984c35",
   "metadata": {},
   "source": [
    "1. Add the current date to the text file today.txt as a string."
   ]
  },
  {
   "cell_type": "code",
   "execution_count": 2,
   "id": "7bd7d003",
   "metadata": {},
   "outputs": [],
   "source": [
    "import datetime\n",
    "\n",
    "date_string= datetime.date.today().strftime(\"%m-%d-%y\")"
   ]
  },
  {
   "cell_type": "code",
   "execution_count": 3,
   "id": "925cfeec",
   "metadata": {},
   "outputs": [
    {
     "data": {
      "text/plain": [
       "'10-18-22'"
      ]
     },
     "execution_count": 3,
     "metadata": {},
     "output_type": "execute_result"
    }
   ],
   "source": [
    "date_string"
   ]
  },
  {
   "cell_type": "code",
   "execution_count": 4,
   "id": "eaa1f29a",
   "metadata": {},
   "outputs": [],
   "source": [
    "with open('today.txt','w') as f:\n",
    "    f.write(date_string)"
   ]
  },
  {
   "cell_type": "markdown",
   "id": "a766fb1b",
   "metadata": {},
   "source": [
    "2. Read the text file today.txt into the string today_string"
   ]
  },
  {
   "cell_type": "code",
   "execution_count": 8,
   "id": "8da23202",
   "metadata": {},
   "outputs": [
    {
     "data": {
      "text/plain": [
       "'10-18-22'"
      ]
     },
     "execution_count": 8,
     "metadata": {},
     "output_type": "execute_result"
    }
   ],
   "source": [
    "today_string= open(\"today.txt\",\"r\")\n",
    "today_string.read()\n"
   ]
  },
  {
   "cell_type": "markdown",
   "id": "bc2a1e2d",
   "metadata": {},
   "source": [
    "3. Parse the date from today_string."
   ]
  },
  {
   "cell_type": "code",
   "execution_count": null,
   "id": "391df603",
   "metadata": {},
   "outputs": [],
   "source": [
    "today = datetime.datetime.strptime(today_string,\"%d/%m/%y\")"
   ]
  },
  {
   "cell_type": "markdown",
   "id": "1d9ac865",
   "metadata": {},
   "source": [
    "4. List the files in your current directory"
   ]
  },
  {
   "cell_type": "code",
   "execution_count": null,
   "id": "6fa126f8",
   "metadata": {},
   "outputs": [],
   "source": [
    "import os\n",
    "\n",
    "os.listdir()"
   ]
  },
  {
   "cell_type": "markdown",
   "id": "cdc796d7",
   "metadata": {},
   "source": [
    "5. Create a list of all of the files in your parent directory (minimum five files should be available)."
   ]
  },
  {
   "cell_type": "code",
   "execution_count": null,
   "id": "7fd79795",
   "metadata": {},
   "outputs": [],
   "source": [
    "import os\n",
    "\n",
    "parent_dir=os.listdir()\n",
    "\n",
    "for file in parent_dir:\n",
    "    print(file)"
   ]
  },
  {
   "cell_type": "markdown",
   "id": "97d9b324",
   "metadata": {},
   "source": [
    "6. Use multiprocessing to create three separate processes. Make each one wait a random number of\n",
    "seconds between one and five, print the current time, and then exit."
   ]
  },
  {
   "cell_type": "code",
   "execution_count": 17,
   "id": "81b02956",
   "metadata": {},
   "outputs": [],
   "source": [
    "import multiprocessing, time\n",
    "\n",
    "def wait_random():\n",
    "    time.sleep(random.randint(1,5))\n",
    "    print(time.ctime())\n",
    "\n",
    "if __name__ == '__main__':\n",
    "    for i in range(3):\n",
    "        p = multiprocessing.Process(target=wait_random)\n",
    "        p.start()"
   ]
  },
  {
   "cell_type": "markdown",
   "id": "3d1c603a",
   "metadata": {},
   "source": [
    "7. Create a date object of your day of birth."
   ]
  },
  {
   "cell_type": "code",
   "execution_count": 26,
   "id": "53d12027",
   "metadata": {},
   "outputs": [],
   "source": [
    "import datetime\n",
    "\n",
    "day_of_birth= datetime.date(1990,1,1)"
   ]
  },
  {
   "cell_type": "markdown",
   "id": "bc2437fb",
   "metadata": {},
   "source": [
    "8. What day of the week was your day of birth?"
   ]
  },
  {
   "cell_type": "code",
   "execution_count": 29,
   "id": "8c20f252",
   "metadata": {},
   "outputs": [],
   "source": [
    "day_of_week= day_of_birth.weekday()"
   ]
  },
  {
   "cell_type": "code",
   "execution_count": 30,
   "id": "f27e0293",
   "metadata": {},
   "outputs": [
    {
     "data": {
      "text/plain": [
       "0"
      ]
     },
     "execution_count": 30,
     "metadata": {},
     "output_type": "execute_result"
    }
   ],
   "source": [
    "day_of_week"
   ]
  },
  {
   "cell_type": "markdown",
   "id": "ead008f7",
   "metadata": {},
   "source": [
    "9. When will you be (or when were you) 10,000 days old?"
   ]
  },
  {
   "cell_type": "code",
   "execution_count": null,
   "id": "1845ba43",
   "metadata": {},
   "outputs": [],
   "source": []
  }
 ],
 "metadata": {
  "kernelspec": {
   "display_name": "Python 3 (ipykernel)",
   "language": "python",
   "name": "python3"
  },
  "language_info": {
   "codemirror_mode": {
    "name": "ipython",
    "version": 3
   },
   "file_extension": ".py",
   "mimetype": "text/x-python",
   "name": "python",
   "nbconvert_exporter": "python",
   "pygments_lexer": "ipython3",
   "version": "3.9.7"
  }
 },
 "nbformat": 4,
 "nbformat_minor": 5
}
