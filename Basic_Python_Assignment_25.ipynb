{
 "cells": [
  {
   "cell_type": "markdown",
   "id": "a7a7f7e3",
   "metadata": {},
   "source": [
    "What is the difference between enclosing a list comprehension in square brackets and\n",
    "parentheses?"
   ]
  },
  {
   "cell_type": "code",
   "execution_count": null,
   "id": "447b7656",
   "metadata": {},
   "outputs": [],
   "source": [
    "square brackets denote a list while parentheses denote a tuple."
   ]
  },
  {
   "cell_type": "markdown",
   "id": "3f4b1229",
   "metadata": {},
   "source": [
    "2) What is the relationship between generators and iterators?"
   ]
  },
  {
   "cell_type": "code",
   "execution_count": null,
   "id": "4e574b6b",
   "metadata": {},
   "outputs": [],
   "source": [
    "Generators are used to create iterators."
   ]
  },
  {
   "cell_type": "markdown",
   "id": "beb76ddf",
   "metadata": {},
   "source": [
    "3) What are the signs that a function is a generator function?"
   ]
  },
  {
   "cell_type": "code",
   "execution_count": null,
   "id": "55ed8d11",
   "metadata": {},
   "outputs": [],
   "source": [
    "It contains a yield keyword and that it returns an object."
   ]
  },
  {
   "cell_type": "markdown",
   "id": "a2eb1653",
   "metadata": {},
   "source": [
    "4) What is the purpose of a yield statement?"
   ]
  },
  {
   "cell_type": "code",
   "execution_count": null,
   "id": "fda0369a",
   "metadata": {},
   "outputs": [],
   "source": [
    "A yield statement is used to return a value from a function without terminating the function.\n",
    "and a yield statement is used to pause a generator function."
   ]
  },
  {
   "cell_type": "markdown",
   "id": "46c098ee",
   "metadata": {},
   "source": [
    "5) What is the relationship between map calls and list comprehensions? Make a comparison and\n",
    "contrast between the two."
   ]
  },
  {
   "cell_type": "code",
   "execution_count": null,
   "id": "085c6a45",
   "metadata": {},
   "outputs": [],
   "source": [
    "A map call is a way to apply a function to a list and map calls are written as map(function, list)\n",
    "A list comprehension is a way to create a list and list comprehensions are written as [expression for item in list]."
   ]
  }
 ],
 "metadata": {
  "kernelspec": {
   "display_name": "Python 3 (ipykernel)",
   "language": "python",
   "name": "python3"
  },
  "language_info": {
   "codemirror_mode": {
    "name": "ipython",
    "version": 3
   },
   "file_extension": ".py",
   "mimetype": "text/x-python",
   "name": "python",
   "nbconvert_exporter": "python",
   "pygments_lexer": "ipython3",
   "version": "3.9.7"
  }
 },
 "nbformat": 4,
 "nbformat_minor": 5
}
