{
 "cells": [
  {
   "cell_type": "markdown",
   "id": "3549e5a3",
   "metadata": {},
   "source": [
    "1. What is the relationship between def statements and lambda expressions ?"
   ]
  },
  {
   "cell_type": "code",
   "execution_count": null,
   "id": "505d3354",
   "metadata": {},
   "outputs": [],
   "source": [
    "A lambda expression is an anonymous function that can take any number of arguments, but can only have one expression. \n",
    "A def statement is a function definition that gives a function a name so that it can be called later."
   ]
  },
  {
   "cell_type": "markdown",
   "id": "d8149381",
   "metadata": {},
   "source": [
    "2. What is the benefit of lambda?"
   ]
  },
  {
   "cell_type": "markdown",
   "id": "2607b3f0",
   "metadata": {},
   "source": [
    "1. Lambda can be used to create anonymous functions. This is useful when you want to create a function but do not want to give it a name.\n",
    "\n",
    "2. Lambda can be used to simplify code. For example, if you have a function that takes two arguments and returns the product of those arguments, you can use a lambda function to accomplish this in one line of code."
   ]
  },
  {
   "cell_type": "markdown",
   "id": "58d83dbf",
   "metadata": {},
   "source": [
    "3. Compare and contrast map, filter, and reduce."
   ]
  },
  {
   "cell_type": "markdown",
   "id": "fa88ee80",
   "metadata": {},
   "source": [
    "Map applies a function to all elements in a list, filter selects elements from a list based on a criteria, and reduce applies a function to all elements in a list and reduces the list to a single value."
   ]
  },
  {
   "cell_type": "markdown",
   "id": "bb945a7f",
   "metadata": {},
   "source": [
    "4. What are function annotations, and how are they used?"
   ]
  },
  {
   "cell_type": "code",
   "execution_count": null,
   "id": "351bc945",
   "metadata": {},
   "outputs": [],
   "source": [
    "Function annotations are a way of adding extra information to a function definition.\n",
    "They are used to specify the types of the function's arguments and return value."
   ]
  },
  {
   "cell_type": "markdown",
   "id": "1fcc9ae7",
   "metadata": {},
   "source": [
    "5. What are recursive functions, and how are they used?"
   ]
  },
  {
   "cell_type": "code",
   "execution_count": null,
   "id": "6a0ca312",
   "metadata": {},
   "outputs": [],
   "source": [
    "Recursive functions are functions that call themselves. \n",
    "They are used to break down complex problems into smaller, more manageable pieces."
   ]
  },
  {
   "cell_type": "markdown",
   "id": "ef7bb150",
   "metadata": {},
   "source": [
    "6. What are some general design guidelines for coding functions?"
   ]
  },
  {
   "cell_type": "code",
   "execution_count": null,
   "id": "c0f47f05",
   "metadata": {},
   "outputs": [],
   "source": [
    "There are a few general design guidelines for coding functions:\n",
    "\n",
    "1. Functions should be short and focused on a single task.\n",
    "2. Functions should be named according to their purpose.\n",
    "3. Functions should be modular, meaning they can be reused in other parts of the code.\n",
    "4. Functions should be well-documented so other developers can understand their purpose and how to use them."
   ]
  },
  {
   "cell_type": "markdown",
   "id": "d2bd0821",
   "metadata": {},
   "source": [
    "7. Name three or more ways that functions can communicate results to a caller."
   ]
  },
  {
   "cell_type": "code",
   "execution_count": null,
   "id": "3f644627",
   "metadata": {},
   "outputs": [],
   "source": [
    "1. By returning a value\n",
    "2. By taking an argument by reference\n",
    "3. By throwing an exception\n",
    "4. By writing to a global variable\n",
    "5. By writing to a file"
   ]
  }
 ],
 "metadata": {
  "kernelspec": {
   "display_name": "Python 3 (ipykernel)",
   "language": "python",
   "name": "python3"
  },
  "language_info": {
   "codemirror_mode": {
    "name": "ipython",
    "version": 3
   },
   "file_extension": ".py",
   "mimetype": "text/x-python",
   "name": "python",
   "nbconvert_exporter": "python",
   "pygments_lexer": "ipython3",
   "version": "3.9.7"
  }
 },
 "nbformat": 4,
 "nbformat_minor": 5
}
