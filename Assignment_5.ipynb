{
 "cells": [
  {
   "cell_type": "markdown",
   "id": "053b1402",
   "metadata": {},
   "source": [
    "1. What does an empty dictionary's code look like?"
   ]
  },
  {
   "cell_type": "code",
   "execution_count": 2,
   "id": "2e7b4db7",
   "metadata": {},
   "outputs": [
    {
     "data": {
      "text/plain": [
       "dict"
      ]
     },
     "execution_count": 2,
     "metadata": {},
     "output_type": "execute_result"
    }
   ],
   "source": [
    "d={}\n",
    "type(d)"
   ]
  },
  {
   "cell_type": "markdown",
   "id": "c2a3f9fe",
   "metadata": {},
   "source": [
    "2. What is the value of a dictionary value with the key 'foo' and the value 42?"
   ]
  },
  {
   "cell_type": "code",
   "execution_count": 9,
   "id": "0362bda2",
   "metadata": {},
   "outputs": [],
   "source": [
    "d={\"foo\":42}"
   ]
  },
  {
   "cell_type": "code",
   "execution_count": 14,
   "id": "d46a9acf",
   "metadata": {},
   "outputs": [
    {
     "data": {
      "text/plain": [
       "42"
      ]
     },
     "execution_count": 14,
     "metadata": {},
     "output_type": "execute_result"
    }
   ],
   "source": [
    "d['foo']"
   ]
  },
  {
   "cell_type": "markdown",
   "id": "5a3fdc27",
   "metadata": {},
   "source": [
    "3. What is the most significant distinction between a dictionary and a list?"
   ]
  },
  {
   "cell_type": "markdown",
   "id": "1a03cc74",
   "metadata": {},
   "source": [
    "dictionary contains key and value pair \n",
    "dictionary access via keys but list access via position\n",
    "dictionary is unordered sequence but list is ordered squence of items"
   ]
  },
  {
   "cell_type": "markdown",
   "id": "83eae8c2",
   "metadata": {},
   "source": [
    "4. What happens if you try to access spam['foo'] if spam is {'bar': 100}?"
   ]
  },
  {
   "cell_type": "code",
   "execution_count": 15,
   "id": "9b401776",
   "metadata": {},
   "outputs": [
    {
     "ename": "KeyError",
     "evalue": "'foo'",
     "output_type": "error",
     "traceback": [
      "\u001b[1;31m---------------------------------------------------------------------------\u001b[0m",
      "\u001b[1;31mKeyError\u001b[0m                                  Traceback (most recent call last)",
      "\u001b[1;32m~\\AppData\\Local\\Temp/ipykernel_15108/178719693.py\u001b[0m in \u001b[0;36m<module>\u001b[1;34m\u001b[0m\n\u001b[0;32m      1\u001b[0m \u001b[0mspam\u001b[0m\u001b[1;33m=\u001b[0m\u001b[1;33m{\u001b[0m\u001b[1;34m\"bar\"\u001b[0m\u001b[1;33m:\u001b[0m\u001b[1;36m100\u001b[0m\u001b[1;33m}\u001b[0m\u001b[1;33m\u001b[0m\u001b[1;33m\u001b[0m\u001b[0m\n\u001b[1;32m----> 2\u001b[1;33m \u001b[0mspam\u001b[0m\u001b[1;33m[\u001b[0m\u001b[1;34m\"foo\"\u001b[0m\u001b[1;33m]\u001b[0m\u001b[1;33m\u001b[0m\u001b[1;33m\u001b[0m\u001b[0m\n\u001b[0m",
      "\u001b[1;31mKeyError\u001b[0m: 'foo'"
     ]
    }
   ],
   "source": [
    "spam={\"bar\":100}\n",
    "spam[\"foo\"]"
   ]
  },
  {
   "cell_type": "markdown",
   "id": "eabde8b2",
   "metadata": {},
   "source": [
    "5. If a dictionary is stored in spam, what is the difference between the expressions 'cat' in spam and 'cat' in spam.keys()?"
   ]
  },
  {
   "cell_type": "code",
   "execution_count": 17,
   "id": "7ed68c3a",
   "metadata": {},
   "outputs": [
    {
     "data": {
      "text/plain": [
       "True"
      ]
     },
     "execution_count": 17,
     "metadata": {},
     "output_type": "execute_result"
    }
   ],
   "source": [
    "spam={\"cat\":43}\n",
    "\"cat\" in spam"
   ]
  },
  {
   "cell_type": "code",
   "execution_count": 18,
   "id": "96393566",
   "metadata": {},
   "outputs": [
    {
     "data": {
      "text/plain": [
       "True"
      ]
     },
     "execution_count": 18,
     "metadata": {},
     "output_type": "execute_result"
    }
   ],
   "source": [
    "\"cat\" in spam.keys() "
   ]
  },
  {
   "cell_type": "markdown",
   "id": "d38deef9",
   "metadata": {},
   "source": [
    "6. If a dictionary is stored in spam, what is the difference between the expressions 'cat' in spam and 'cat' in spam.values()?"
   ]
  },
  {
   "cell_type": "code",
   "execution_count": 19,
   "id": "076dd801",
   "metadata": {},
   "outputs": [
    {
     "data": {
      "text/plain": [
       "False"
      ]
     },
     "execution_count": 19,
     "metadata": {},
     "output_type": "execute_result"
    }
   ],
   "source": [
    "\"cat\" in spam.values()"
   ]
  },
  {
   "cell_type": "code",
   "execution_count": 20,
   "id": "01c5b6b3",
   "metadata": {},
   "outputs": [
    {
     "data": {
      "text/plain": [
       "True"
      ]
     },
     "execution_count": 20,
     "metadata": {},
     "output_type": "execute_result"
    }
   ],
   "source": [
    "\"cat\" in spam"
   ]
  },
  {
   "cell_type": "markdown",
   "id": "00ff91e9",
   "metadata": {},
   "source": [
    "7. What is a shortcut for the following code?\n",
    "if 'color' not in spam:\n",
    "spam['color'] = 'black'"
   ]
  },
  {
   "cell_type": "code",
   "execution_count": 24,
   "id": "a4e4cea1",
   "metadata": {},
   "outputs": [],
   "source": [
    "spam={\"cat\":43}\n",
    "spam.update({\"color\":\"black\"})"
   ]
  },
  {
   "cell_type": "code",
   "execution_count": 22,
   "id": "15c6112e",
   "metadata": {},
   "outputs": [
    {
     "data": {
      "text/plain": [
       "{'cat': 43, 'color': 'black'}"
      ]
     },
     "execution_count": 22,
     "metadata": {},
     "output_type": "execute_result"
    }
   ],
   "source": [
    "spam"
   ]
  },
  {
   "cell_type": "markdown",
   "id": "ea94087d",
   "metadata": {},
   "source": [
    "8. How do you \"pretty print\" dictionary values using which module and function?"
   ]
  },
  {
   "cell_type": "markdown",
   "id": "1fe89478",
   "metadata": {},
   "source": [
    "pprint module and pprint() function is used \"pretty print\" dictionary\n",
    "using the array of dictionary afterword pretty print it using the function pprint.pprint()\n"
   ]
  },
  {
   "cell_type": "code",
   "execution_count": 25,
   "id": "1710f0da",
   "metadata": {},
   "outputs": [
    {
     "name": "stdout",
     "output_type": "stream",
     "text": [
      "[{'abc': 34, 'dgfh': 45, 'wffd': 8}, {'age': 34, 'name': 'kumar', 'xy': 32}]\n"
     ]
    }
   ],
   "source": [
    "#example:\n",
    "import pprint\n",
    "\n",
    "dict_arr=[{\"abc\":34,\"dgfh\":45,\"wffd\":8},\n",
    "          {\"xy\":32,\"name\":\"kumar\",\"age\":34}]\n",
    "\n",
    "pprint.pprint(dict_arr)"
   ]
  },
  {
   "cell_type": "code",
   "execution_count": null,
   "id": "7790270c",
   "metadata": {},
   "outputs": [],
   "source": []
  }
 ],
 "metadata": {
  "kernelspec": {
   "display_name": "Python 3 (ipykernel)",
   "language": "python",
   "name": "python3"
  },
  "language_info": {
   "codemirror_mode": {
    "name": "ipython",
    "version": 3
   },
   "file_extension": ".py",
   "mimetype": "text/x-python",
   "name": "python",
   "nbconvert_exporter": "python",
   "pygments_lexer": "ipython3",
   "version": "3.9.7"
  }
 },
 "nbformat": 4,
 "nbformat_minor": 5
}
