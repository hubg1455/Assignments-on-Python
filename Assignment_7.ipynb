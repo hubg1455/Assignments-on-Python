{
 "cells": [
  {
   "cell_type": "markdown",
   "id": "171fa2ec",
   "metadata": {},
   "source": [
    "1. What is the name of the feature responsible for generating Regex objects?"
   ]
  },
  {
   "cell_type": "markdown",
   "id": "93a1a141",
   "metadata": {},
   "source": [
    "The re.compile() function returns Regex objects"
   ]
  },
  {
   "cell_type": "markdown",
   "id": "3087fd29",
   "metadata": {},
   "source": [
    "2. Why do raw strings often appear in Regex objects?"
   ]
  },
  {
   "cell_type": "markdown",
   "id": "7716870a",
   "metadata": {},
   "source": [
    "in raw strings backslashes not behave like as Regex objects. backslashes are not escape in raw string"
   ]
  },
  {
   "cell_type": "code",
   "execution_count": 1,
   "id": "81917bc2",
   "metadata": {},
   "outputs": [
    {
     "name": "stdout",
     "output_type": "stream",
     "text": [
      "\tTake your time\n",
      " we will go\n",
      "\\tTake your time\\n we will go\n"
     ]
    }
   ],
   "source": [
    "#example:\n",
    "print(\"\\tTake your time\\n we will go\")   #Regex\n",
    "print(r\"\\tTake your time\\n we will go\")  #raw string"
   ]
  },
  {
   "cell_type": "markdown",
   "id": "b1f08c47",
   "metadata": {},
   "source": [
    "3. What is the return value of the search() method?"
   ]
  },
  {
   "cell_type": "markdown",
   "id": "4e1b87c5",
   "metadata": {},
   "source": [
    "Re.search() method is inbuilt regex function that searches string for a match and returns match object if there is a match. It takes two parameters. If there is more than one match, only the first occurrence of the match will be returned. If no matches are found, the value None is returned."
   ]
  },
  {
   "cell_type": "markdown",
   "id": "69f9b98d",
   "metadata": {},
   "source": [
    "4. From a Match item, how do you get the actual strings that match the pattern?"
   ]
  },
  {
   "cell_type": "code",
   "execution_count": 4,
   "id": "a1716011",
   "metadata": {},
   "outputs": [
    {
     "data": {
      "text/plain": [
       "<re.Match object; span=(0, 6), match='sharma'>"
      ]
     },
     "execution_count": 4,
     "metadata": {},
     "output_type": "execute_result"
    }
   ],
   "source": [
    "import re\n",
    "s=re.compile('[a-z]+')\n",
    "p=s.match(\"sharma\")\n",
    "p"
   ]
  },
  {
   "cell_type": "code",
   "execution_count": 5,
   "id": "cefcbce2",
   "metadata": {},
   "outputs": [
    {
     "data": {
      "text/plain": [
       "'sharma'"
      ]
     },
     "execution_count": 5,
     "metadata": {},
     "output_type": "execute_result"
    }
   ],
   "source": [
    "p.group()"
   ]
  },
  {
   "cell_type": "markdown",
   "id": "a3d7e1a4",
   "metadata": {},
   "source": [
    "5. In the regex which created from the r'(\\d\\d\\d)-(\\d\\d\\d-\\d\\d\\d\\d)', what does group zero cover? Group 2? Group 1?"
   ]
  },
  {
   "cell_type": "code",
   "execution_count": 36,
   "id": "e7d99241",
   "metadata": {},
   "outputs": [],
   "source": [
    "a = re.compile(r'(\\d\\d\\d)-(\\d\\d\\d-\\d\\d\\d\\d)')\n",
    "b = a.match('345-543-2341')"
   ]
  },
  {
   "cell_type": "code",
   "execution_count": 37,
   "id": "750b5cf0",
   "metadata": {},
   "outputs": [
    {
     "data": {
      "text/plain": [
       "'345'"
      ]
     },
     "execution_count": 37,
     "metadata": {},
     "output_type": "execute_result"
    }
   ],
   "source": [
    "b.group(1)"
   ]
  },
  {
   "cell_type": "code",
   "execution_count": 38,
   "id": "228cc30a",
   "metadata": {},
   "outputs": [
    {
     "data": {
      "text/plain": [
       "'543-2341'"
      ]
     },
     "execution_count": 38,
     "metadata": {},
     "output_type": "execute_result"
    }
   ],
   "source": [
    "b.group(2)"
   ]
  },
  {
   "cell_type": "markdown",
   "id": "eaae1d46",
   "metadata": {},
   "source": [
    "6. In standard expression syntax, parentheses and intervals have distinct meanings. How can you tell a regex that you want it to fit real parentheses and periods?"
   ]
  },
  {
   "cell_type": "markdown",
   "id": "5fba94be",
   "metadata": {},
   "source": [
    "Periods and parentheses in regex with a backslash: \\., \\(, and \\)."
   ]
  },
  {
   "cell_type": "markdown",
   "id": "a69f02de",
   "metadata": {},
   "source": [
    "7. The findall() method returns a string list or a list of string tuples. What causes it to return one of the two options?"
   ]
  },
  {
   "cell_type": "markdown",
   "id": "13f053f7",
   "metadata": {},
   "source": [
    "The re.findall() method returns a list of strings or a list of string tuples. If the regex has no groups, a list of strings is returned. If the regex has groups, a list of tuples of strings is returned."
   ]
  },
  {
   "cell_type": "markdown",
   "id": "f8dc0736",
   "metadata": {},
   "source": [
    "8. In standard expressions, what does the | character mean?"
   ]
  },
  {
   "cell_type": "markdown",
   "id": "1a1014b0",
   "metadata": {},
   "source": [
    "In standard expressions, the | character mean \"or\" between two groups."
   ]
  },
  {
   "cell_type": "markdown",
   "id": "9094ee79",
   "metadata": {},
   "source": [
    "9. In regular expressions, what does the character stand for?"
   ]
  },
  {
   "cell_type": "code",
   "execution_count": null,
   "id": "a667f309",
   "metadata": {},
   "outputs": [],
   "source": []
  },
  {
   "cell_type": "markdown",
   "id": "8f399cc7",
   "metadata": {},
   "source": [
    "10.In regular expressions, what is the difference between the + and * characters?"
   ]
  },
  {
   "cell_type": "markdown",
   "id": "8a55d31a",
   "metadata": {},
   "source": [
    "The + matches 1 or more times and * matches o or more times"
   ]
  },
  {
   "cell_type": "markdown",
   "id": "0e3265db",
   "metadata": {},
   "source": [
    "11. What is the difference between {4} and {4,5} in regular expression?"
   ]
  },
  {
   "cell_type": "markdown",
   "id": "408d2826",
   "metadata": {},
   "source": [
    "In regular expression, {4} means it will match exactly 4 and {4,5} means it will match from 4 to 5"
   ]
  },
  {
   "cell_type": "markdown",
   "id": "ef4219ad",
   "metadata": {},
   "source": [
    "12. What do you mean by the \\d, \\w, and \\s shorthand character classes signify in regular expressions?"
   ]
  },
  {
   "cell_type": "markdown",
   "id": "e2bd0641",
   "metadata": {},
   "source": [
    "\\d matches any decimal digit [0-9]\n",
    "\\w matches any alphanumeric character [a-zA-Z0-9_]\n",
    "\\s matches any whitespace character [\\t\\n\\r\\f\\v]"
   ]
  },
  {
   "cell_type": "markdown",
   "id": "65ff9fac",
   "metadata": {},
   "source": [
    "13. What do means by \\D, \\W, and \\S shorthand character classes signify in regular expressions?"
   ]
  },
  {
   "cell_type": "markdown",
   "id": "de8a31a6",
   "metadata": {},
   "source": [
    "\\D matches any non-digit character [^0-9]\n",
    "\\S matches any non whitespace character [^\\t\\n\\r\\f\\v]\n",
    "\\W matches any non- alphanumeric character [^a-zA-Z0-9_]"
   ]
  },
  {
   "cell_type": "markdown",
   "id": "aaf44a4b",
   "metadata": {},
   "source": [
    "14. What is the difference between .*? and .* ?"
   ]
  },
  {
   "cell_type": "markdown",
   "id": "752c4496",
   "metadata": {},
   "source": [
    ".*? matches any and all text in non greedy mode\n",
    ".* matches any and all text in greedy mode"
   ]
  },
  {
   "cell_type": "code",
   "execution_count": 44,
   "id": "dec9a1ee",
   "metadata": {},
   "outputs": [
    {
     "data": {
      "text/plain": [
       "'<this is a best server>'"
      ]
     },
     "execution_count": 44,
     "metadata": {},
     "output_type": "execute_result"
    }
   ],
   "source": [
    "#Example\n",
    "greedy=re.compile('<.*>')\n",
    "greedy_all=greedy.match('<this is a best server>')\n",
    "greedy_all.group()"
   ]
  },
  {
   "cell_type": "code",
   "execution_count": 42,
   "id": "1bd5159d",
   "metadata": {},
   "outputs": [
    {
     "data": {
      "text/plain": [
       "'<this is server2>'"
      ]
     },
     "execution_count": 42,
     "metadata": {},
     "output_type": "execute_result"
    }
   ],
   "source": [
    "nongreedy=re.compile('<.*?>')\n",
    "nongreedy_all=greedy.match('<this is server2>for best service')\n",
    "nongreedy_all.group()"
   ]
  },
  {
   "cell_type": "markdown",
   "id": "09155b37",
   "metadata": {},
   "source": [
    "15. What is the syntax for matching both numbers and lowercase letters with a character class?"
   ]
  },
  {
   "cell_type": "code",
   "execution_count": 55,
   "id": "03908b81",
   "metadata": {},
   "outputs": [
    {
     "data": {
      "text/plain": [
       "'2'"
      ]
     },
     "execution_count": 55,
     "metadata": {},
     "output_type": "execute_result"
    }
   ],
   "source": [
    "num1=re.compile('[0-9a-z]')\n",
    "num2=re.compile('[a-z0-9]')\n",
    "num3=num1.match('21st century')\n",
    "num3.group()"
   ]
  },
  {
   "cell_type": "code",
   "execution_count": 56,
   "id": "850f95ef",
   "metadata": {},
   "outputs": [
    {
     "data": {
      "text/plain": [
       "'t'"
      ]
     },
     "execution_count": 56,
     "metadata": {},
     "output_type": "execute_result"
    }
   ],
   "source": [
    "num1=re.compile('[0-9a-z]')\n",
    "num2=re.compile('[a-z0-9]')\n",
    "num3=num2.match('this is 21st century')\n",
    "num3.group()"
   ]
  },
  {
   "cell_type": "markdown",
   "id": "b481e232",
   "metadata": {},
   "source": [
    "16. What is the procedure for making a normal expression in regax case insensitive?"
   ]
  },
  {
   "cell_type": "markdown",
   "id": "27133294",
   "metadata": {},
   "source": [
    "using re.I or re.IGNORECASE as the second argument to re.compile()  making a normal expression in regax case insensitive"
   ]
  },
  {
   "cell_type": "markdown",
   "id": "8eb2e7f1",
   "metadata": {},
   "source": [
    "17. What does the . character normally match? What does it match if re.DOTALL is passed as 2nd argument in re.compile()?"
   ]
  },
  {
   "cell_type": "markdown",
   "id": "7fffcffb",
   "metadata": {},
   "source": [
    "The . character normally matches any character except the newline character and if re.DOTALL is passed as the second argument to re.compile(), then the dot will also match newline characters."
   ]
  },
  {
   "cell_type": "markdown",
   "id": "31359f3e",
   "metadata": {},
   "source": [
    "18. If numReg = re.compile(r'\\d+'), what will numRegex.sub('X', '11 drummers, 10 pipers, five rings, 4 hen') return?"
   ]
  },
  {
   "cell_type": "code",
   "execution_count": 5,
   "id": "a3941ae4",
   "metadata": {},
   "outputs": [
    {
     "data": {
      "text/plain": [
       "'X drummers, X pipers, five rings, X hen'"
      ]
     },
     "execution_count": 5,
     "metadata": {},
     "output_type": "execute_result"
    }
   ],
   "source": [
    "import re\n",
    "numRegex = re.compile(r'\\d+')\n",
    "m=numRegex.sub('X', '11 drummers, 10 pipers, five rings, 4 hen')\n",
    "m"
   ]
  },
  {
   "cell_type": "markdown",
   "id": "1e376fa3",
   "metadata": {},
   "source": [
    "19. What does passing re.VERBOSE as the 2nd argument to re.compile() allow to do?"
   ]
  },
  {
   "cell_type": "markdown",
   "id": "fe6e5b6d",
   "metadata": {},
   "source": [
    " The re.VERBOSE argument allows re.compile() to add whitespace and comments to the string passed to re."
   ]
  },
  {
   "cell_type": "markdown",
   "id": "d0cdb7a1",
   "metadata": {},
   "source": [
    "20. How would you write a regex that match a number with comma for every three digits? It must match the given following:"
   ]
  },
  {
   "cell_type": "markdown",
   "id": "c59ccf22",
   "metadata": {},
   "source": [
    "'42'\n",
    "'1,234'\n",
    "'6,368,745'\n",
    "but not the following:\n",
    "'12,34,567' (which has only two digits between the commas)\n",
    "'1234' (which lacks commas)\n"
   ]
  },
  {
   "cell_type": "code",
   "execution_count": 32,
   "id": "d62f24f8",
   "metadata": {},
   "outputs": [
    {
     "data": {
      "text/plain": [
       "'42'"
      ]
     },
     "execution_count": 32,
     "metadata": {},
     "output_type": "execute_result"
    }
   ],
   "source": [
    "num1=re.compile('^\\d{1,3}(,\\d{2})*$')\n",
    "num2=num1.match('42')\n",
    "num2.group()"
   ]
  },
  {
   "cell_type": "code",
   "execution_count": 34,
   "id": "0cd3f0f7",
   "metadata": {},
   "outputs": [
    {
     "data": {
      "text/plain": [
       "'1,234'"
      ]
     },
     "execution_count": 34,
     "metadata": {},
     "output_type": "execute_result"
    }
   ],
   "source": [
    "num1=re.compile('^\\d{1,3}(,\\d{3})*$')\n",
    "num2=num1.match('1,234')\n",
    "num2.group()"
   ]
  },
  {
   "cell_type": "code",
   "execution_count": 31,
   "id": "acc780b4",
   "metadata": {},
   "outputs": [
    {
     "data": {
      "text/plain": [
       "'6,368,745'"
      ]
     },
     "execution_count": 31,
     "metadata": {},
     "output_type": "execute_result"
    }
   ],
   "source": [
    "num1=re.compile('^\\d{1,3}(,\\d{3})*$')\n",
    "num2=num1.match('6,368,745')\n",
    "num2.group()"
   ]
  },
  {
   "cell_type": "markdown",
   "id": "a0172cb2",
   "metadata": {},
   "source": [
    "21. How would you write a regex that matches the full name of someone whose last name is Watanabe? You can assume that the first name that comes before it will always be one word that begins with a capital letter. The regex must match the following:"
   ]
  },
  {
   "cell_type": "markdown",
   "id": "5498db34",
   "metadata": {},
   "source": [
    "'Haruto Watanabe'\n",
    "'Alice Watanabe'\n",
    "'RoboCop Watanabe'\n",
    "but not the following:\n",
    "'haruto Watanabe' (where the first name is not capitalized)\n",
    "'Mr. Watanabe' (where the preceding word has a nonletter character)\n",
    "'Watanabe' (which has no first name)\n",
    "'Haruto watanabe' (where Watanabe is not capitalized)\n"
   ]
  },
  {
   "cell_type": "code",
   "execution_count": 41,
   "id": "d72dce1b",
   "metadata": {},
   "outputs": [
    {
     "data": {
      "text/plain": [
       "'Haruto Watanabe'"
      ]
     },
     "execution_count": 41,
     "metadata": {},
     "output_type": "execute_result"
    }
   ],
   "source": [
    "m1=re.compile('[A-Z][a-z]*\\sWatanabe')\n",
    "m2=m1.match('Haruto Watanabe')\n",
    "m2.group()"
   ]
  },
  {
   "cell_type": "code",
   "execution_count": 42,
   "id": "e47e194d",
   "metadata": {},
   "outputs": [
    {
     "data": {
      "text/plain": [
       "'Alice Watanabe'"
      ]
     },
     "execution_count": 42,
     "metadata": {},
     "output_type": "execute_result"
    }
   ],
   "source": [
    "m1=re.compile('[A-Z][a-z]*\\sWatanabe')\n",
    "m2=m1.match('Alice Watanabe')\n",
    "m2.group()"
   ]
  },
  {
   "cell_type": "code",
   "execution_count": 47,
   "id": "ce9d50a0",
   "metadata": {},
   "outputs": [
    {
     "data": {
      "text/plain": [
       "'RoboCop Watanabe'"
      ]
     },
     "execution_count": 47,
     "metadata": {},
     "output_type": "execute_result"
    }
   ],
   "source": [
    "m1=re.compile('[A-Za-z]*\\sWatanabe')\n",
    "m2=m1.match('RoboCop Watanabe')\n",
    "m2.group()"
   ]
  },
  {
   "cell_type": "markdown",
   "id": "9e9b6105",
   "metadata": {},
   "source": [
    "22. How would you write a regex that matches a sentence where the first word is either Alice, Bob, or Carol; the second word is either eats, pets, or throws; the third word is apples, cats, or baseballs; and the sentence ends with a period? This regex should be case-insensitive. It must match the following:"
   ]
  },
  {
   "cell_type": "markdown",
   "id": "8a93eacb",
   "metadata": {},
   "source": [
    "'Alice eats apples.'\n",
    "'Bob pets cats.'\n",
    "'Carol throws baseballs.'\n",
    "'Alice throws Apples.'\n",
    "'BOB EATS CATS.'\n",
    "but not the following:\n",
    "'RoboCop eats apples.'\n",
    "'ALICE THROWS FOOTBALLS.'\n",
    "'Carol eats 7 cats.'\n"
   ]
  },
  {
   "cell_type": "code",
   "execution_count": 48,
   "id": "a06c41ab",
   "metadata": {},
   "outputs": [
    {
     "data": {
      "text/plain": [
       "'Bob pets cats.'"
      ]
     },
     "execution_count": 48,
     "metadata": {},
     "output_type": "execute_result"
    }
   ],
   "source": [
    "a1=re.compile('(Alice|Bob|Carol)\\s(eats|pets|throws)\\s(apples|cats|baseballs)\\.',re.I)\n",
    "a2=a1.match('Bob pets cats.')\n",
    "a2.group()\n",
    "              "
   ]
  },
  {
   "cell_type": "code",
   "execution_count": 49,
   "id": "7e7a2539",
   "metadata": {},
   "outputs": [
    {
     "data": {
      "text/plain": [
       "'Carol throws baseballs.'"
      ]
     },
     "execution_count": 49,
     "metadata": {},
     "output_type": "execute_result"
    }
   ],
   "source": [
    "a1=re.compile('(Alice|Bob|Carol)\\s(eats|pets|throws)\\s(apples|cats|baseballs)\\.',re.I)\n",
    "a2=a1.match('Carol throws baseballs.')\n",
    "a2.group()"
   ]
  },
  {
   "cell_type": "code",
   "execution_count": 50,
   "id": "63062218",
   "metadata": {},
   "outputs": [
    {
     "data": {
      "text/plain": [
       "'BOB EATS CATS.'"
      ]
     },
     "execution_count": 50,
     "metadata": {},
     "output_type": "execute_result"
    }
   ],
   "source": [
    "a1=re.compile('(Alice|Bob|Carol)\\s(eats|pets|throws)\\s(apples|cats|baseballs)\\.',re.I)\n",
    "a2=a1.match('BOB EATS CATS.')\n",
    "a2.group()"
   ]
  },
  {
   "cell_type": "code",
   "execution_count": 51,
   "id": "7d2daebd",
   "metadata": {},
   "outputs": [
    {
     "ename": "AttributeError",
     "evalue": "'NoneType' object has no attribute 'group'",
     "output_type": "error",
     "traceback": [
      "\u001b[1;31m---------------------------------------------------------------------------\u001b[0m",
      "\u001b[1;31mAttributeError\u001b[0m                            Traceback (most recent call last)",
      "\u001b[1;32m~\\AppData\\Local\\Temp/ipykernel_14380/3759533923.py\u001b[0m in \u001b[0;36m<module>\u001b[1;34m\u001b[0m\n\u001b[0;32m      1\u001b[0m \u001b[0ma1\u001b[0m\u001b[1;33m=\u001b[0m\u001b[0mre\u001b[0m\u001b[1;33m.\u001b[0m\u001b[0mcompile\u001b[0m\u001b[1;33m(\u001b[0m\u001b[1;34m'(Alice|Bob|Carol)\\s(eats|pets|throws)\\s(apples|cats|baseballs)\\.'\u001b[0m\u001b[1;33m,\u001b[0m\u001b[0mre\u001b[0m\u001b[1;33m.\u001b[0m\u001b[0mI\u001b[0m\u001b[1;33m)\u001b[0m\u001b[1;33m\u001b[0m\u001b[1;33m\u001b[0m\u001b[0m\n\u001b[0;32m      2\u001b[0m \u001b[0ma2\u001b[0m\u001b[1;33m=\u001b[0m\u001b[0ma1\u001b[0m\u001b[1;33m.\u001b[0m\u001b[0mmatch\u001b[0m\u001b[1;33m(\u001b[0m\u001b[1;34m'Carol eats 7 cats.'\u001b[0m\u001b[1;33m)\u001b[0m\u001b[1;33m\u001b[0m\u001b[1;33m\u001b[0m\u001b[0m\n\u001b[1;32m----> 3\u001b[1;33m \u001b[0ma2\u001b[0m\u001b[1;33m.\u001b[0m\u001b[0mgroup\u001b[0m\u001b[1;33m(\u001b[0m\u001b[1;33m)\u001b[0m\u001b[1;33m\u001b[0m\u001b[1;33m\u001b[0m\u001b[0m\n\u001b[0m",
      "\u001b[1;31mAttributeError\u001b[0m: 'NoneType' object has no attribute 'group'"
     ]
    }
   ],
   "source": [
    "a1=re.compile('(Alice|Bob|Carol)\\s(eats|pets|throws)\\s(apples|cats|baseballs)\\.',re.I)\n",
    "a2=a1.match('Carol eats 7 cats.')\n",
    "a2.group()"
   ]
  },
  {
   "cell_type": "code",
   "execution_count": null,
   "id": "0dd28e5b",
   "metadata": {},
   "outputs": [],
   "source": []
  }
 ],
 "metadata": {
  "kernelspec": {
   "display_name": "Python 3 (ipykernel)",
   "language": "python",
   "name": "python3"
  },
  "language_info": {
   "codemirror_mode": {
    "name": "ipython",
    "version": 3
   },
   "file_extension": ".py",
   "mimetype": "text/x-python",
   "name": "python",
   "nbconvert_exporter": "python",
   "pygments_lexer": "ipython3",
   "version": "3.9.7"
  }
 },
 "nbformat": 4,
 "nbformat_minor": 5
}
