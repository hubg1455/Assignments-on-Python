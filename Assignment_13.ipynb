{
 "cells": [
  {
   "cell_type": "markdown",
   "id": "2b2f826a",
   "metadata": {},
   "source": [
    "1. What advantages do Excel spreadsheets have over CSV spreadsheets?"
   ]
  },
  {
   "cell_type": "code",
   "execution_count": null,
   "id": "a7aa010e",
   "metadata": {},
   "outputs": [],
   "source": [
    "Excel spreadsheets are much easier to use and allow for many more features and formatting options.\n",
    "Excel spreadsheets also allow for much more data to be stored in them than CSV spreadsheets."
   ]
  },
  {
   "cell_type": "markdown",
   "id": "f24c8197",
   "metadata": {},
   "source": [
    "2.What do you pass to csv.reader() and csv.writer() to create reader and writer objects?"
   ]
  },
  {
   "cell_type": "code",
   "execution_count": null,
   "id": "292eb05d",
   "metadata": {},
   "outputs": [],
   "source": [
    "file object\n",
    "\n",
    "import csv\n",
    "\n",
    "with open(\"file.csv\",'r') as file\n",
    "reader=csv.reader(file,delimiter='\\t')\n",
    "\n",
    "for row in reader:\n",
    "    print(row)"
   ]
  },
  {
   "cell_type": "markdown",
   "id": "bd29c5c0",
   "metadata": {},
   "source": [
    "3. What modes do File objects for reader and writer objects need to be opened in?"
   ]
  },
  {
   "cell_type": "code",
   "execution_count": null,
   "id": "4708daf5",
   "metadata": {},
   "outputs": [],
   "source": [
    "File objects for reader objects need to be opened in read mode,\n",
    "and file objects for writer objects need to be opened in write mode."
   ]
  },
  {
   "cell_type": "markdown",
   "id": "ed0669fd",
   "metadata": {},
   "source": [
    "4. What method takes a list argument and writes it to a CSV file?"
   ]
  },
  {
   "cell_type": "code",
   "execution_count": null,
   "id": "d550c24c",
   "metadata": {},
   "outputs": [],
   "source": [
    "csv.writer()"
   ]
  },
  {
   "cell_type": "markdown",
   "id": "9dfab6d9",
   "metadata": {},
   "source": [
    "5. What do the keyword arguments delimiter and line terminator do?"
   ]
  },
  {
   "cell_type": "code",
   "execution_count": null,
   "id": "bb040d6a",
   "metadata": {},
   "outputs": [],
   "source": [
    "The delimiter keyword argument will be used to separate values in the CSV file. The default value is a comma.\n",
    "\n",
    "The line terminator keyword argumentwill be used to end each line in the CSV file. The default value is a newline character."
   ]
  },
  {
   "cell_type": "markdown",
   "id": "d3236b20",
   "metadata": {},
   "source": [
    "6. What function takes a string of JSON data and returns a Python data structure?"
   ]
  },
  {
   "cell_type": "code",
   "execution_count": null,
   "id": "29e9e523",
   "metadata": {},
   "outputs": [],
   "source": [
    "json.loads() function."
   ]
  },
  {
   "cell_type": "markdown",
   "id": "807f2c46",
   "metadata": {},
   "source": [
    "7. What function takes a Python data structure and returns a string of JSON data?"
   ]
  },
  {
   "cell_type": "code",
   "execution_count": null,
   "id": "c84a28fb",
   "metadata": {},
   "outputs": [],
   "source": [
    "json.dumps() function"
   ]
  }
 ],
 "metadata": {
  "kernelspec": {
   "display_name": "Python 3 (ipykernel)",
   "language": "python",
   "name": "python3"
  },
  "language_info": {
   "codemirror_mode": {
    "name": "ipython",
    "version": 3
   },
   "file_extension": ".py",
   "mimetype": "text/x-python",
   "name": "python",
   "nbconvert_exporter": "python",
   "pygments_lexer": "ipython3",
   "version": "3.9.7"
  }
 },
 "nbformat": 4,
 "nbformat_minor": 5
}
